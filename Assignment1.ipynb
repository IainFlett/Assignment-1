{
 "cells": [
  {
   "cell_type": "code",
   "execution_count": 3,
   "id": "2608e802-7ba9-4aaf-8ec6-d53eb633282f",
   "metadata": {},
   "outputs": [],
   "source": [
    "import os\n",
    "import nltk\n",
    "import numpy\n",
    "import matplotlib\n",
    "from nltk.tokenize import sent_tokenize, word_tokenize\n",
    "from nltk import FreqDist\n",
    "import pandas as pd\n",
    "\n",
    "\n",
    "\n",
    "\n",
    "\n",
    "\n",
    "import requests\n",
    "\n",
    "# use the get() function and store the value in the variable 'response'\n",
    "\n",
    "response = requests.get(\"https://www.scifiscripts.com/scripts/startrek2_wrathofkhan.txt\")\n",
    "\n",
    "# store the html\n",
    "\n",
    "html_string = response.text\n",
    "\n",
    "with open(\"./data/StarTrekII.txt\", 'w') as out:\n",
    "    out.write(html_string)"
   ]
  },
  {
   "cell_type": "code",
   "execution_count": 5,
   "id": "b34737f8-66ca-4f70-8d0a-02beb497e17e",
   "metadata": {},
   "outputs": [],
   "source": [
    "def get_text_info(text):\n",
    "    \"\"\"\n",
    "    Uses NLTK to calculate: tokens, types, lexical diversity\n",
    "    \n",
    "    Args:\n",
    "        text (str): a string containing the file or text\n",
    "        \n",
    "    Returns: \n",
    "        dict: a dictionary containing tokens, types, and lexical diversity\n",
    "    \"\"\"\n",
    "    tokens = nltk.word_tokenize(text)\n",
    "    n_tokens = len(tokens)\n",
    "    n_types = len(set(tokens))\n",
    "    return {\n",
    "            'tokens': n_tokens,\n",
    "            'types': n_types,\n",
    "        }\n",
    "def process_dir(path):\n",
    "    \"\"\"\n",
    "    Reads all the files in a directory. Processes them using the 'get_text_info' function\n",
    "    \n",
    "    Args: \n",
    "        path (str): path to the directory where the files are\n",
    "        \n",
    "    Returns:\n",
    "        dict: a dictionary with file names as keys and the tokens, types, lexical diversity, as values\n",
    "    \n",
    "    \"\"\"\n",
    "    file_info = {}\n",
    "\n",
    "    for filename in os.listdir(path):\n",
    "        if filename.endswith(\".txt\"):    \n",
    "            file_path = os.path.join(path, filename)      \n",
    "            with open(file_path, 'r', encoding=\"utf-8\") as f:\n",
    "                text = f.read()\n",
    "                file_info[filename] = get_text_info(text)\n",
    "    return file_info"
   ]
  },
  {
   "cell_type": "code",
   "execution_count": 7,
   "id": "2de5c49d-015b-40e0-a4e5-73d90e457def",
   "metadata": {},
   "outputs": [],
   "source": [
    "path = './data'\n",
    "\n",
    "filesInfo = process_dir(path)\n"
   ]
  },
  {
   "cell_type": "code",
   "execution_count": 9,
   "id": "6b1b0580-f712-4d1f-991e-2e1e92dd4f64",
   "metadata": {},
   "outputs": [
    {
     "data": {
      "text/html": [
       "<div>\n",
       "<style scoped>\n",
       "    .dataframe tbody tr th:only-of-type {\n",
       "        vertical-align: middle;\n",
       "    }\n",
       "\n",
       "    .dataframe tbody tr th {\n",
       "        vertical-align: top;\n",
       "    }\n",
       "\n",
       "    .dataframe thead th {\n",
       "        text-align: right;\n",
       "    }\n",
       "</style>\n",
       "<table border=\"1\" class=\"dataframe\">\n",
       "  <thead>\n",
       "    <tr style=\"text-align: right;\">\n",
       "      <th></th>\n",
       "      <th>tokens</th>\n",
       "      <th>types</th>\n",
       "    </tr>\n",
       "  </thead>\n",
       "  <tbody>\n",
       "    <tr>\n",
       "      <th>Meditations_Marcus_Aurelius.txt</th>\n",
       "      <td>87734</td>\n",
       "      <td>7294</td>\n",
       "    </tr>\n",
       "    <tr>\n",
       "      <th>StarTrekII.txt</th>\n",
       "      <td>22065</td>\n",
       "      <td>3673</td>\n",
       "    </tr>\n",
       "    <tr>\n",
       "      <th>Winnie_the_Pooh_AA_Milne.txt</th>\n",
       "      <td>34371</td>\n",
       "      <td>3135</td>\n",
       "    </tr>\n",
       "  </tbody>\n",
       "</table>\n",
       "</div>"
      ],
      "text/plain": [
       "                                 tokens  types\n",
       "Meditations_Marcus_Aurelius.txt   87734   7294\n",
       "StarTrekII.txt                    22065   3673\n",
       "Winnie_the_Pooh_AA_Milne.txt      34371   3135"
      ]
     },
     "execution_count": 9,
     "metadata": {},
     "output_type": "execute_result"
    }
   ],
   "source": [
    "df = pd.DataFrame.from_dict(filesInfo, orient='index')\n",
    "df"
   ]
  },
  {
   "cell_type": "code",
   "execution_count": 11,
   "id": "5f4f7b41-9f43-4aa4-9016-79ad524fb626",
   "metadata": {},
   "outputs": [
    {
     "data": {
      "text/html": [
       "<div>\n",
       "<style scoped>\n",
       "    .dataframe tbody tr th:only-of-type {\n",
       "        vertical-align: middle;\n",
       "    }\n",
       "\n",
       "    .dataframe tbody tr th {\n",
       "        vertical-align: top;\n",
       "    }\n",
       "\n",
       "    .dataframe thead th {\n",
       "        text-align: right;\n",
       "    }\n",
       "</style>\n",
       "<table border=\"1\" class=\"dataframe\">\n",
       "  <thead>\n",
       "    <tr style=\"text-align: right;\">\n",
       "      <th></th>\n",
       "      <th>tokens</th>\n",
       "      <th>types</th>\n",
       "      <th>lex_div</th>\n",
       "    </tr>\n",
       "  </thead>\n",
       "  <tbody>\n",
       "    <tr>\n",
       "      <th>Meditations_Marcus_Aurelius.txt</th>\n",
       "      <td>87734</td>\n",
       "      <td>7294</td>\n",
       "      <td>0.083138</td>\n",
       "    </tr>\n",
       "    <tr>\n",
       "      <th>StarTrekII.txt</th>\n",
       "      <td>22065</td>\n",
       "      <td>3673</td>\n",
       "      <td>0.166463</td>\n",
       "    </tr>\n",
       "    <tr>\n",
       "      <th>Winnie_the_Pooh_AA_Milne.txt</th>\n",
       "      <td>34371</td>\n",
       "      <td>3135</td>\n",
       "      <td>0.091211</td>\n",
       "    </tr>\n",
       "  </tbody>\n",
       "</table>\n",
       "</div>"
      ],
      "text/plain": [
       "                                 tokens  types   lex_div\n",
       "Meditations_Marcus_Aurelius.txt   87734   7294  0.083138\n",
       "StarTrekII.txt                    22065   3673  0.166463\n",
       "Winnie_the_Pooh_AA_Milne.txt      34371   3135  0.091211"
      ]
     },
     "execution_count": 11,
     "metadata": {},
     "output_type": "execute_result"
    }
   ],
   "source": [
    "df['lex_div'] = df['types']/df['tokens']\n",
    "df"
   ]
  },
  {
   "cell_type": "code",
   "execution_count": null,
   "id": "239987d5-78d2-4791-abd6-5180d57c466d",
   "metadata": {},
   "outputs": [],
   "source": []
  }
 ],
 "metadata": {
  "kernelspec": {
   "display_name": "Python [conda env:base] *",
   "language": "python",
   "name": "conda-base-py"
  },
  "language_info": {
   "codemirror_mode": {
    "name": "ipython",
    "version": 3
   },
   "file_extension": ".py",
   "mimetype": "text/x-python",
   "name": "python",
   "nbconvert_exporter": "python",
   "pygments_lexer": "ipython3",
   "version": "3.12.7"
  }
 },
 "nbformat": 4,
 "nbformat_minor": 5
}
