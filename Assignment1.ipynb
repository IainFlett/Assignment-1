{
 "cells": [
  {
   "cell_type": "markdown",
   "id": "b16e735c-c570-4ac0-ac6d-37877e705b3c",
   "metadata": {},
   "source": [
    "|  Name | Student ID | Section Contributed | Section Edited | Other Contributions |\n",
    "| --- | --- | --- | --- | --- |\n",
    "| Dueck, Ellie | 301462367 | \n",
    "| Flett, Iain | 301581520 | "
   ]
  },
  {
   "cell_type": "code",
   "execution_count": 94,
   "id": "87c3494f-f1e2-498a-a42e-024bcf5517a5",
   "metadata": {},
   "outputs": [],
   "source": [
    "import os\n",
    "import nltk\n",
    "import numpy\n",
    "import re\n",
    "import matplotlib\n",
    "from nltk.tokenize import sent_tokenize, word_tokenize\n",
    "from nltk import FreqDist\n",
    "import pandas as pd\n",
    "import spacy\n",
    "nlp = spacy.load(\"en_core_web_sm\")"
   ]
  },
  {
   "cell_type": "code",
   "execution_count": 23,
   "id": "b34737f8-66ca-4f70-8d0a-02beb497e17e",
   "metadata": {},
   "outputs": [],
   "source": [
    "def get_text_info(text):\n",
    "    \"\"\"\n",
    "    Uses NLTK to calculate: tokens, types, lexical diversity\n",
    "    \n",
    "    Args:\n",
    "        text (str): a string containing the file or text\n",
    "        \n",
    "    Returns: \n",
    "        dict: a dictionary containing tokens, types, and lexical diversity\n",
    "    \"\"\"\n",
    "    tokens = nltk.word_tokenize(text)\n",
    "    n_tokens = len(tokens)\n",
    "    n_types = len(set(tokens))\n",
    "    return {\n",
    "            'tokens': n_tokens,\n",
    "            'types': n_types,\n",
    "        }\n",
    "def process_dir(path):\n",
    "    \"\"\"\n",
    "    Reads all the files in a directory. Processes them using the 'get_text_info' function\n",
    "    \n",
    "    Args: \n",
    "        path (str): path to the directory where the files are\n",
    "        \n",
    "    Returns:\n",
    "        dict: a dictionary with file names as keys and the tokens, types, lexical diversity, as values\n",
    "    \n",
    "    \"\"\"\n",
    "    file_info = {}\n",
    "\n",
    "    for filename in os.listdir(path):\n",
    "        if filename.endswith(\".txt\"):    \n",
    "            file_path = os.path.join(path, filename)      \n",
    "            with open(file_path, 'r', encoding=\"utf-8\") as f:\n",
    "                text = f.read()\n",
    "                file_info[filename] = get_text_info(text)\n",
    "    return file_info"
   ]
  },
  {
   "cell_type": "code",
   "execution_count": 25,
   "id": "2de5c49d-015b-40e0-a4e5-73d90e457def",
   "metadata": {},
   "outputs": [],
   "source": [
    "path = './data'\n",
    "\n",
    "filesInfo = process_dir(path)\n"
   ]
  },
  {
   "cell_type": "code",
   "execution_count": 27,
   "id": "6b1b0580-f712-4d1f-991e-2e1e92dd4f64",
   "metadata": {},
   "outputs": [
    {
     "data": {
      "text/html": [
       "<div>\n",
       "<style scoped>\n",
       "    .dataframe tbody tr th:only-of-type {\n",
       "        vertical-align: middle;\n",
       "    }\n",
       "\n",
       "    .dataframe tbody tr th {\n",
       "        vertical-align: top;\n",
       "    }\n",
       "\n",
       "    .dataframe thead th {\n",
       "        text-align: right;\n",
       "    }\n",
       "</style>\n",
       "<table border=\"1\" class=\"dataframe\">\n",
       "  <thead>\n",
       "    <tr style=\"text-align: right;\">\n",
       "      <th></th>\n",
       "      <th>tokens</th>\n",
       "      <th>types</th>\n",
       "    </tr>\n",
       "  </thead>\n",
       "  <tbody>\n",
       "    <tr>\n",
       "      <th>Meditations_Marcus_Aurelius.txt</th>\n",
       "      <td>81803</td>\n",
       "      <td>6602</td>\n",
       "    </tr>\n",
       "    <tr>\n",
       "      <th>StarTrekII.txt</th>\n",
       "      <td>22065</td>\n",
       "      <td>3673</td>\n",
       "    </tr>\n",
       "    <tr>\n",
       "      <th>Winnie_the_Pooh_AA_Milne.txt</th>\n",
       "      <td>30602</td>\n",
       "      <td>2650</td>\n",
       "    </tr>\n",
       "  </tbody>\n",
       "</table>\n",
       "</div>"
      ],
      "text/plain": [
       "                                 tokens  types\n",
       "Meditations_Marcus_Aurelius.txt   81803   6602\n",
       "StarTrekII.txt                    22065   3673\n",
       "Winnie_the_Pooh_AA_Milne.txt      30602   2650"
      ]
     },
     "execution_count": 27,
     "metadata": {},
     "output_type": "execute_result"
    }
   ],
   "source": [
    "df = pd.DataFrame.from_dict(filesInfo, orient='index')\n",
    "df"
   ]
  },
  {
   "cell_type": "code",
   "execution_count": 29,
   "id": "5f4f7b41-9f43-4aa4-9016-79ad524fb626",
   "metadata": {},
   "outputs": [
    {
     "data": {
      "text/html": [
       "<div>\n",
       "<style scoped>\n",
       "    .dataframe tbody tr th:only-of-type {\n",
       "        vertical-align: middle;\n",
       "    }\n",
       "\n",
       "    .dataframe tbody tr th {\n",
       "        vertical-align: top;\n",
       "    }\n",
       "\n",
       "    .dataframe thead th {\n",
       "        text-align: right;\n",
       "    }\n",
       "</style>\n",
       "<table border=\"1\" class=\"dataframe\">\n",
       "  <thead>\n",
       "    <tr style=\"text-align: right;\">\n",
       "      <th></th>\n",
       "      <th>tokens</th>\n",
       "      <th>types</th>\n",
       "      <th>lex_div</th>\n",
       "    </tr>\n",
       "  </thead>\n",
       "  <tbody>\n",
       "    <tr>\n",
       "      <th>Meditations_Marcus_Aurelius.txt</th>\n",
       "      <td>81803</td>\n",
       "      <td>6602</td>\n",
       "      <td>0.080706</td>\n",
       "    </tr>\n",
       "    <tr>\n",
       "      <th>StarTrekII.txt</th>\n",
       "      <td>22065</td>\n",
       "      <td>3673</td>\n",
       "      <td>0.166463</td>\n",
       "    </tr>\n",
       "    <tr>\n",
       "      <th>Winnie_the_Pooh_AA_Milne.txt</th>\n",
       "      <td>30602</td>\n",
       "      <td>2650</td>\n",
       "      <td>0.086596</td>\n",
       "    </tr>\n",
       "  </tbody>\n",
       "</table>\n",
       "</div>"
      ],
      "text/plain": [
       "                                 tokens  types   lex_div\n",
       "Meditations_Marcus_Aurelius.txt   81803   6602  0.080706\n",
       "StarTrekII.txt                    22065   3673  0.166463\n",
       "Winnie_the_Pooh_AA_Milne.txt      30602   2650  0.086596"
      ]
     },
     "execution_count": 29,
     "metadata": {},
     "output_type": "execute_result"
    }
   ],
   "source": [
    "df['lex_div'] = df['types']/df['tokens']\n",
    "df"
   ]
  },
  {
   "cell_type": "markdown",
   "id": "fe498cc1-0d06-4a92-8663-c657ccf92435",
   "metadata": {},
   "source": [
    "The top 10 most frequent words and their counts:"
   ]
  },
  {
   "cell_type": "code",
   "execution_count": 84,
   "id": "afb4a6a8-62b7-4d27-85e9-d4e3d6eaf198",
   "metadata": {},
   "outputs": [],
   "source": [
    "def text_cleaner(text):\n",
    "    #removes unwanted punctuation from text\n",
    "    text_clean = re.sub(r'[\\,\\.\\\"\\”\\“\\*\\)\\(\\-\\!\\?]', '', text,)\n",
    "    return text_clean\n",
    "\n",
    "path = './data'\n",
    "word_freq = {}\n",
    "    #reads and processes files to be cleaned and counted\n",
    "for filename in os.listdir(path):\n",
    "        if filename.endswith(\".txt\"):    \n",
    "            file_path = os.path.join(path, filename)      \n",
    "            with open(file_path, 'r', encoding=\"utf-8\") as f:\n",
    "                text = text_cleaner(f.read())\n",
    "                tokens = word_tokenize(text)\n",
    "                word_freq[filename] = FreqDist(tokens).most_common(10)"
   ]
  },
  {
   "cell_type": "code",
   "execution_count": 92,
   "id": "38875750-e070-4e3b-a00e-d8125a77d194",
   "metadata": {},
   "outputs": [
    {
     "name": "stdout",
     "output_type": "stream",
     "text": [
      "\n",
      "Meditations_Marcus_Aurelius.txt: [('and', 3049), ('the', 2400), ('of', 2281), ('to', 1916), ('that', 1882), ('is', 1394), ('it', 1118), ('in', 1060), ('a', 993), ('be', 963)]\n",
      "\n",
      "StarTrekII.txt: [('the', 564), ('to', 354), ('KIRK', 271), ('and', 263), ('a', 233), ('of', 227), ('I', 206), ('is', 203), ('you', 191), (\"'s\", 172)]\n",
      "\n",
      "Winnie_the_Pooh_AA_Milne.txt: [('and', 815), ('the', 678), ('he', 577), ('to', 555), ('said', 539), ('a', 509), ('it', 480), ('I', 453), ('of', 393), ('Pooh', 351)]\n"
     ]
    }
   ],
   "source": [
    "print(\"\\n\".join(f\"\\n{filename}: {words}\" for filename, words in word_freq.items()))"
   ]
  },
  {
   "cell_type": "markdown",
   "id": "86803c24-012e-4ffc-b825-293c6b987e97",
   "metadata": {},
   "source": [
    "Named Entities:"
   ]
  },
  {
   "cell_type": "code",
   "execution_count": 99,
   "id": "a3a97d9f-3d58-44a8-a431-dbe1984be241",
   "metadata": {},
   "outputs": [],
   "source": [
    "for filename in os.listdir(path):\n",
    "        if filename.endswith(\".txt\"):    \n",
    "            file_path = os.path.join(path, filename)      \n",
    "            with open(file_path, 'r', encoding=\"utf-8\") as f:\n",
    "                text = f.read()\n",
    "                doc = nlp(text)"
   ]
  },
  {
   "cell_type": "code",
   "execution_count": 107,
   "id": "d73cccf6-def5-4145-8de2-0d107c725fbb",
   "metadata": {},
   "outputs": [
    {
     "name": "stdout",
     "output_type": "stream",
     "text": [
      "[('A. A. MILNE', 'PERSON'), ('JUVENILES', 'PERSON'), ('EDWARD\\n\\n    NEWTON', 'ORG'), ('Fourteen', 'CARDINAL'), ('A. A. Milne', 'PERSON'), ('H. Fraser-Simson', 'PERSON'), ('A. A. Milne', 'PERSON'), ('H. Fraser-Simson', 'PERSON'), ('The Red House Mystery\\n\\n\\n\\n\\n\\n\\n\\n\\n\\n                            WINNIE-THE-POOH\\n\\n                            BY A. A. MILNE\\n\\n\\n\\n                      McCLELLAND & STEWART', 'ORG'), ('LTD', 'ORG'), ('TORONTO', 'GPE'), ('Copyright', 'GPE'), ('Canada', 'GPE'), ('1926', 'DATE'), ('McClelland & Stewart', 'ORG'), ('Limited\\n\\n                          Publishers', 'ORG'), ('Toronto', 'GPE'), ('October,', 'DATE'), ('1926', 'DATE'), ('Second', 'ORDINAL'), ('July, 1927', 'DATE'), ('Third', 'ORDINAL'), ('December, 1928', 'DATE'), ('Fourth', 'ORDINAL'), ('December, 1929\\n\\n                     ', 'DATE'), ('Fifth', 'ORDINAL'), ('March', 'DATE'), ('1931', 'DATE'), ('Canada', 'GPE'), (\"YOU'RE SURPRISED\", 'PERSON'), ('Christopher Robin', 'PERSON'), ('Christopher Robin', 'PERSON'), ('Pooh', 'PERSON'), ('Edward Bear', 'PERSON'), ('Christopher\\n\\nRobin', 'PERSON'), ('Winnie', 'PERSON'), ('Pooh', 'PERSON'), ('London', 'GPE'), ('WAYOUT', 'ORG'), ('Christopher Robin', 'PERSON'), ('Zoo', 'ORG'), ('the Polar Bears', 'ORG'), ('third', 'ORDINAL'), ('Christopher Robin', 'PERSON'), ('Winnie', 'ORG'), ('Winnie', 'PERSON'), ('Pooh', 'PERSON'), ('Pooh', 'PERSON'), ('Winnie', 'PERSON'), ('Piglet', 'ORG'), ('Piglet', 'ORG'), ('Pooh', 'PERSON'), ('Pooh', 'PERSON'), ('Pooh', 'PERSON'), ('Pooh', 'ORG'), ('Pooh', 'PERSON'), ('Piglet', 'ORG'), ('seven', 'CARDINAL'), ('twelve or\\n\\n', 'DATE'), ('twenty-two', 'CARDINAL'), ('Pooh', 'PERSON'), ('Pooh', 'PERSON'), ('Us', 'GPE'), ('I. IN', 'ORG'), ('ONE', 'CARDINAL'), ('HEFFALUMP', 'ORG'), ('EEYORE', 'ORG'), ('TWO', 'CARDINAL'), ('KANGA', 'ORG'), ('Edward Bear', 'PERSON'), ('Christopher Robin', 'PERSON'), ('Winnie', 'PERSON'), ('the-Pooh', 'PERSON'), ('first', 'ORDINAL'), ('Christopher Robin', 'PERSON'), ('Winnie', 'PERSON'), ('Winnie', 'PERSON'), ('Christopher Robin', 'PERSON'), ('Winnie-the-Pooh', 'ORG'), ('Bear', 'ORG'), ('about last Friday', 'DATE'), ('Winnie', 'PERSON'), ('the-Pooh', 'PERSON'), ('Christopher Robin', 'PERSON'), ('Winnie-the-Pooh', 'WORK_OF_ART'), ('Christopher Robin', 'PERSON'), ('I.', 'PERSON'), ('One day', 'DATE'), ('Winnie', 'PERSON'), ('the-Pooh', 'PERSON'), ('First', 'ORDINAL'), ('Crack', 'ORG'), ('Pooh', 'PERSON'), ('ten feet', 'QUANTITY'), ('twenty feet', 'QUANTITY'), ('thirty feet', 'QUANTITY'), ('six', 'CARDINAL'), ('three', 'CARDINAL'), ('bush', 'PERSON'), ('bush', 'PERSON'), ('first', 'ORDINAL'), ('Christopher Robin', 'PERSON'), ('Christopher Robin', 'PERSON'), ('Christopher Robin', 'PERSON'), ('Winnie', 'PERSON'), ('Christopher Robin', 'PERSON'), ('Christopher Robin', 'PERSON'), ('Christopher Robin', 'PERSON'), ('Winnie', 'PERSON'), ('the-Pooh', 'PERSON'), ('Honey', 'ORG'), ('Pooh', 'PERSON'), ('the day', 'DATE'), ('one', 'CARDINAL'), ('Rabbit', 'ORG'), ('Pooh', 'PERSON'), ('Winnie-the-Pooh', 'PERSON'), ('Winnie', 'PERSON'), ('Pooh', 'PERSON'), ('Pooh Bear', 'ORG'), ('about twenty feet', 'QUANTITY'), ('Hooray', 'PERSON'), ('Winnie', 'PERSON'), ('the-Pooh', 'PERSON'), ('Bear', 'ORG'), ('Pooh', 'PERSON'), ('Christopher Robin', 'PERSON'), ('Christopher Robin', 'PERSON'), ('Bear', 'ORG'), ('Winnie', 'PERSON'), ('Suspicious', 'PRODUCT'), ('the Queen Bee', 'WORK_OF_ART'), ('the Queen Bee', 'WORK_OF_ART'), ('Cloud Song', 'PERSON'), ('Winnie', 'PERSON'), ('a Cloud\\n\\n      Floating', 'PERSON'), ('a Cloud\\n\\n      Floating', 'PERSON'), ('second', 'ORDINAL'), ('one', 'CARDINAL'), ('bee', 'ORG'), ('Winnie', 'PERSON'), ('the-Pooh', 'PERSON'), ('Christopher Robin', 'PERSON'), ('Pooh', 'PERSON'), ('Pooh', 'PERSON'), ('Pooh', 'PERSON'), ('Winnie', 'PERSON'), ('more than a\\n\\nweek', 'DATE'), ('Pooh', 'PERSON'), ('Christopher Robin', 'PERSON'), ('Piglet and Rabbit', 'WORK_OF_ART'), ('That day', 'DATE'), ('Pooh', 'PERSON'), ('Piglet', 'ORG'), ('Pooh', 'PERSON'), ('Christopher Robin', 'PERSON'), ('Pooh', 'PERSON'), ('Christopher Robin', 'PERSON'), ('Pooh', 'PERSON'), ('Winnie', 'PERSON'), ('CHAPTER II', 'LAW'), ('Edward Bear', 'PERSON'), ('Winnie', 'PERSON'), ('Pooh', 'PERSON'), ('one day', 'DATE'), ('Stoutness Exercises', 'ORG'), ('help!--la', 'PERSON'), ('Rum-tum-tiddle', 'PERSON'), ('Rum-tum-tum-tiddle', 'PERSON'), ('Pooh', 'PERSON'), ('Rum-tum-tiddle', 'PERSON'), ('Rabbit', 'WORK_OF_ART'), ('Food and Listening-to-Me-Humming', 'WORK_OF_ART'), ('Rum-tum-tum-tiddle', 'PERSON'), ('Pooh', 'PERSON'), ('first', 'ORDINAL'), ('Pooh', 'PERSON'), ('Winnie', 'PERSON'), ('the-Pooh', 'PERSON'), ('Rabbit', 'WORK_OF_ART'), ('Rabbit', 'ORG'), ('Rabbit', 'WORK_OF_ART'), ('Pooh', 'PERSON'), ('Rabbit', 'WORK_OF_ART'), ('Pooh Bear', 'PERSON'), ('Bear', 'ORG'), ('Pooh Bear', 'WORK_OF_ART'), ('Rabbit', 'WORK_OF_ART'), ('Pooh', 'PERSON'), ('Pooh', 'PERSON'), ('Rabbit', 'WORK_OF_ART'), ('One', 'CARDINAL'), ('Pooh', 'PERSON'), (\"eleven o'clock in the morning\", 'TIME'), ('Rabbit', 'ORG'), ('Honey', 'ORG'), ('Rabbit', 'WORK_OF_ART'), ('Pooh', 'PERSON'), ('Rabbit', 'WORK_OF_ART'), ('Pooh', 'PERSON'), ('Pooh', 'PERSON'), ('Pooh', 'PERSON'), ('Pooh', 'PERSON'), ('Pooh', 'PERSON'), ('Pooh', 'PERSON'), ('Pooh', 'PERSON'), ('Pooh Bear', 'PERSON'), ('Pooh', 'PERSON'), ('Rabbit', 'WORK_OF_ART'), ('Pooh', 'PERSON'), ('Rabbit', 'WORK_OF_ART'), ('one', 'CARDINAL'), ('Rabbit', 'WORK_OF_ART'), ('Christopher\\n\\nRobin', 'PERSON'), ('Christopher Robin', 'PERSON'), ('Rabbit', 'WORK_OF_ART'), ('half', 'CARDINAL'), ('Bear', 'ORG'), ('Rabbit', 'WORK_OF_ART'), ('Christopher Robin', 'PERSON'), ('Rabbit', 'WORK_OF_ART'), ('Pooh', 'PERSON'), ('Pooh', 'PERSON'), ('Pooh', 'PERSON'), ('Pooh', 'PERSON'), ('Rabbit', 'WORK_OF_ART'), ('Christopher Robin', 'PERSON'), ('only one', 'CARDINAL'), ('Pooh', 'PERSON'), ('About a week', 'DATE'), ('Bear', 'ORG'), ('house--_do', 'NORP'), ('A week', 'DATE'), ('Pooh', 'PERSON'), ('Christopher Robin', 'PERSON'), ('Bear', 'PERSON'), ('Sustaining Book', 'WORK_OF_ART'), ('a week', 'DATE'), ('Christopher Robin', 'PERSON'), ('Pooh', 'PERSON'), ('South', 'LOC'), ('Bear', 'ORG'), ('Christopher Robin', 'PERSON'), ('Pooh', 'PERSON'), ('Christopher\\n\\nRobin', 'FAC'), ('Rabbit', 'WORK_OF_ART'), ('Pooh', 'PERSON'), ('Christopher Robin', 'PERSON'), ('Winnie', 'PERSON'), ('Christopher Robin', 'PERSON'), ('Bear', 'ORG'), ('CHAPTER III\\n\\n\\n\\n                   IN WHICH POOH', 'ORG'), ('Piglet', 'ORG'), ('Piglet', 'ORG'), ('Christopher Robin', 'PERSON'), ('Christopher Robin', 'PERSON'), ('Trespassers W', 'ORG'), ('Piglet', 'ORG'), ('Trespassers Will', 'PERSON'), ('Trespassers William', 'PERSON'), ('two', 'CARDINAL'), ('one', 'CARDINAL'), ('William', 'PERSON'), ('two', 'CARDINAL'), ('Christopher Robin', 'PERSON'), ('Piglet', 'ORG'), ('One', 'CARDINAL'), (\"winter's day\", 'DATE'), ('Piglet', 'PERSON'), ('Winnie', 'PERSON'), ('Piglet', 'ORG'), ('Piglet', 'ORG'), ('Pooh', 'PERSON'), ('Winnie-the-Pooh', 'PERSON'), ('Piglet', 'ORG'), ('Winnie-the-Pooh', 'PERSON'), ('Piglet', 'ORG'), ('Pooh', 'PERSON'), ('Pooh', 'PERSON'), ('Piglet', 'ORG'), ('a minute', 'TIME'), ('two', 'CARDINAL'), ('Winnie', 'PERSON'), ('the-Pooh', 'PERSON'), ('Piglet', 'ORG'), ('Bear', 'ORG'), ('two', 'CARDINAL'), ('two', 'CARDINAL'), ('Piglet', 'ORG'), ('Friday', 'DATE'), ('Woozle', 'PRODUCT'), ('two', 'CARDINAL'), ('Winnie-the-Pooh', 'PERSON'), ('Piglet', 'ORG'), ('Friday', 'DATE'), ('two', 'CARDINAL'), ('Pooh', 'PERSON'), ('Piglet', 'ORG'), ('Pooh', 'PERSON'), ('Remove Stiffness after Tracking', 'WORK_OF_ART'), ('his later years', 'DATE'), ('Pooh', 'PERSON'), ('Grandfather', 'PERSON'), ('Two', 'CARDINAL'), ('one', 'CARDINAL'), ('Christopher Robin', 'PERSON'), ('Winnie', 'PERSON'), ('Piglet', 'ORG'), ('Pooh', 'PERSON'), ('third', 'ORDINAL'), ('two', 'CARDINAL'), ('Piglet', 'FAC'), ('Woozle', 'LOC'), ('Pooh', 'PERSON'), ('Two', 'CARDINAL'), ('Wizzle', 'ORG'), ('Two', 'CARDINAL'), ('Wizzles', 'PERSON'), ('Woozle', 'PERSON'), ('three', 'CARDINAL'), ('Grandfather T. W.', 'PERSON'), ('Christopher Robin', 'PERSON'), ('Christopher Robin', 'PERSON'), ('Winnie-the-Pooh', 'ORG'), ('four', 'CARDINAL'), ('Three', 'CARDINAL'), ('Woozles', 'PERSON'), ('Wizzle', 'ORG'), ('Woozle', 'LOC'), ('four', 'CARDINAL'), ('Piglet', 'ORG'), ('yesterday', 'DATE'), ('this afternoon', 'TIME'), ('Pooh', 'PERSON'), ('the afternoon', 'TIME'), ('Piglet', 'ORG'), ('a very particular morning', 'TIME'), ('between the hours', 'TIME'), ('About twelve', 'CARDINAL'), ('Winnie-the-Pooh', 'PERSON'), ('the hours', 'TIME'), ('twelve and twelve', 'CARDINAL'), ('Pooh', 'PERSON'), ('Pooh', 'PERSON'), ('Christopher Robin', 'PERSON'), ('Piglet', 'ORG'), ('Christopher Robin', 'PERSON'), ('Bear', 'ORG'), ('First', 'ORDINAL'), ('Piglet', 'ORG'), ('fourth', 'ORDINAL'), ('Winnie-the-Pooh', 'PERSON'), ('one', 'CARDINAL'), ('Winnie-the-Pooh', 'PERSON'), ('Winnie-the-Pooh', 'PERSON'), ('Foolish', 'LANGUAGE'), ('Deluded', 'PERSON'), ('the Best Bear', 'ORG'), ('Christopher Robin', 'PERSON'), ('Pooh', 'PERSON'), ('Luncheon Time', 'ORG'), ('CHAPTER IV\\n\\n\\n\\n                      ', 'ORG'), ('A TAIL\\n\\n                           AND POOH FINDS ONE', 'WORK_OF_ART'), ('one', 'CARDINAL'), ('Winnie', 'PERSON'), ('Eeyore', 'PERSON'), ('Winnie-the-Pooh', 'PERSON'), ('Eeyore', 'PERSON'), ('Pooh', 'PERSON'), ('Eeyore', 'PERSON'), ('Winnie', 'PERSON'), ('the-Pooh', 'PERSON'), ('Eeyore', 'PERSON'), ('Eeyore', 'PERSON'), ('a little while ago', 'DATE'), ('first', 'ORDINAL'), ('Pooh', 'PERSON'), ('Eeyore', 'NORP'), ('Winnie-the-Pooh', 'PERSON'), ('Eeyore', 'PERSON'), ('Pooh', 'PERSON'), ('Eeyore', 'PERSON'), ('Winnie', 'PERSON'), ('Pooh', 'PERSON'), ('Eeyore', 'PERSON'), ('Winnie', 'PERSON'), ('Eeyore', 'PERSON'), ('Bear', 'ORG'), ('Bear', 'ORG'), ('Winnie', 'PERSON'), ('The Chestnuts', 'ORG'), ('Bear', 'ORG'), ('Christopher Robin', 'PERSON'), ('MEASLES', 'ORG'), ('BUTTEREDTOAST', 'ORG'), ('Winnie-the-Pooh', 'PERSON'), ('two', 'CARDINAL'), ('first', 'ORDINAL'), ('Pooh', 'PERSON'), ('Terrible and Sad', 'WORK_OF_ART'), ('Pooh', 'PERSON'), ('Eeyore', 'PERSON'), ('Crustimoney Proseedcake', 'ORG'), ('Pooh', 'PERSON'), ('Bother', 'PERSON'), ('Pooh', 'PERSON'), ('First', 'ORDINAL'), ('Pooh', 'PERSON'), ('Pooh', 'PERSON'), ('Pooh', 'PERSON'), ('Eeyore', 'PERSON'), ('Pooh', 'PERSON'), ('Owl', 'ORG'), ('Bear', 'ORG'), ('Christopher Robin', 'PERSON'), ('Pooh', 'PERSON'), ('Pooh', 'PERSON'), ('Pooh', 'PERSON'), ('Pooh', 'PERSON'), ('bush', 'PERSON'), ('first', 'ORDINAL'), ('Pooh', 'PERSON'), ('Eeyore', 'PERSON'), ('Eeyore', 'PERSON'), ('Winnie-the-Pooh', 'PERSON'), ('Eeyore', 'ORG'), ('Christopher Robin', 'PERSON'), ('Eeyore', 'ORG'), ('Winnie', 'PERSON'), ('half an hour', 'TIME'), ('Tail', 'PERSON'), ('Pooh', 'PERSON'), ('two', 'CARDINAL'), ('quarter', 'DATE'), ('eleven', 'CARDINAL'), ('One day', 'DATE'), ('Christopher Robin', 'PERSON'), ('Winnie', 'PERSON'), ('the-Pooh', 'PERSON'), ('Christopher Robin', 'PERSON'), ('Piglet', 'ORG'), ('Piglet', 'ORG'), ('Christopher Robin', 'PERSON'), ('one', 'CARDINAL'), ('Piglet', 'ORG'), ('Pooh', 'PERSON'), ('Christopher Robin', 'PERSON'), ('Piglet', 'ORG'), ('this time of year', 'DATE'), ('Pooh', 'PERSON'), ('Pooh', 'PERSON'), ('Piglet', 'ORG'), ('first', 'ORDINAL'), ('the Hundred Acre Wood', 'MONEY'), ('Piglet', 'ORG'), ('Pooh', 'PERSON'), ('Pooh', 'PERSON'), ('Piglet', 'ORG'), ('Piglet', 'ORG'), ('Pooh', 'PERSON'), ('Pooh', 'PERSON'), ('Piglet', 'ORG'), ('the Six\\n\\nPine Trees', 'EVENT'), ('Pooh', 'PERSON'), ('Pooh', 'PERSON'), ('Pooh', 'PERSON'), ('Pooh', 'PERSON'), ('Piglet', 'ORG'), ('Piglet', 'ORG'), ('first', 'ORDINAL'), ('Pooh', 'PERSON'), ('a Cunning Trap', 'PERSON'), ('Piglet', 'ORG'), ('Pooh', 'PERSON'), ('Pooh', 'PERSON'), ('first', 'ORDINAL'), ('a Very Deep Pit', 'PERSON'), ('Pit', 'ORG'), ('Piglet', 'ORG'), ('Pooh', 'PERSON'), ('Pooh', 'PERSON'), ('Heffalump', 'ORG'), ('the Very Deep Pit', 'FAC'), ('half', 'CARDINAL'), ('Piglet', 'PERSON'), ('Trap', 'PERSON'), ('Pooh', 'PERSON'), ('the Very Deep Pit', 'FAC'), ('half', 'CARDINAL'), ('Piglet', 'PERSON'), ('a Cunning Trap', 'PERSON'), ('Pooh', 'PERSON'), ('one', 'CARDINAL'), ('the\\n\\nVery Deep Pit', 'EVENT'), ('Piglet', 'ORG'), ('Pooh', 'PERSON'), ('Suspect', 'ORG'), ('Pooh', 'PERSON'), ('Heffalumps', 'ORG'), ('Piglet', 'ORG'), ('Pooh', 'PERSON'), ('Piglet', 'ORG'), ('Piglet', 'ORG'), ('Trap', 'PERSON'), ('a Jar of Honey', 'PERSON'), ('Pooh', 'PERSON'), ('the Jar of Honey', 'ORG'), ('first', 'ORDINAL'), ('first', 'ORDINAL'), ('Heffalumps', 'PERSON'), ('Pooh', 'PERSON'), ('Pooh', 'PERSON'), ('Honey', 'ORG'), ('Haycorns', 'ORG'), ('Piglet', 'ORG'), ('Trap', 'PERSON'), ('Pooh', 'PERSON'), ('Pooh', 'PERSON'), ('Honey', 'ORG'), ('Piglet', 'ORG'), ('Pooh', 'PERSON'), ('HUNNY', 'ORG'), ('Pooh', 'PERSON'), ('Heffalumps', 'ORG'), ('Piglet', 'ORG'), ('Piglet', 'ORG'), ('Pooh', 'PERSON'), ('Piglet', 'ORG'), ('Pooh', 'PERSON'), ('Piglet', 'ORG'), ('Pit', 'ORG'), ('Pooh', 'PERSON'), ('Piglet', 'ORG'), ('Pooh', 'PERSON'), (\"six o'clock\", 'TIME'), ('morning', 'TIME'), ('the Pine Trees', 'ORG'), ('Heffalumps', 'ORG'), ('Trap', 'PERSON'), (\"Six o'clock\", 'WORK_OF_ART'), ('Piglet', 'ORG'), ('Heffalumps', 'GPE'), ('Piglet', 'ORG'), ('Pooh', 'PERSON'), ('Some hours later', 'TIME'), ('Pooh', 'PERSON'), ('HUNNY', 'ORG'), ('three', 'CARDINAL'), ('the Cunning Trap', 'PERSON'), ('Heffalump', 'ORG'), ('Pooh', 'PERSON'), ('Heffalumps', 'GPE'), ('Counting Sheep', 'PERSON'), ('Heffalumps', 'ORG'), ('Pooh', 'PERSON'), ('some minutes', 'TIME'), ('five hundred and', 'CARDINAL'), ('Pooh', 'PERSON'), ('the\\n\\nSix Pine Trees', 'EVENT'), ('Sun', 'ORG'), ('half-light', 'QUANTITY'), ('the Pine Trees', 'ORG'), ('the Very Deep Pit', 'PRODUCT'), ('Pooh', 'PERSON'), ('Pooh', 'PERSON'), ('Piglet', 'ORG'), ('Fierce', 'ORG'), ('Fond of Pigs', 'ORG'), ('Fierce', 'ORG'), ('Pigs', 'ORG'), ('WILLIAM', 'ORG'), ('first', 'ORDINAL'), ('about an hour', 'TIME'), ('Pooh', 'PERSON'), ('two', 'CARDINAL'), ('Heffalumps', 'LOC'), ('Pigs', 'ORG'), ('the Six Pine Trees', 'ORG'), ('this morning', 'TIME'), ('the Six\\n\\nPine Trees', 'EVENT'), ('Trap', 'PERSON'), ('first', 'ORDINAL'), ('Piglet', 'ORG'), ('Trap', 'PERSON'), ('Winnie', 'PERSON'), ('Bother', 'PERSON'), ('Sadness and Despair', 'ORG'), ('Piglet', 'ORG'), ('Piglet', 'WORK_OF_ART'), ('Hoff', 'PERSON'), ('Hoff', 'GPE'), ('Holl', 'PERSON'), ('Holl', 'PERSON'), (\"Christopher Robin's\", 'PERSON'), ('Piglet', 'ORG'), ('Christopher Robin', 'PERSON'), ('Heff', 'ORG'), ('Piglet', 'ORG'), ('a\\n\\nHeff', 'WORK_OF_ART'), ('Heff', 'ORG'), ('Piglet', 'ORG'), ('Christopher Robin', 'PERSON'), ('Christopher Robin', 'PERSON'), ('Christopher Robin', 'PERSON'), ('Piglet', 'ORG'), ('Christopher Robin', 'PERSON'), ('Pooh', 'PERSON'), ('Piglet', 'ORG'), (\"Christopher Robin's\", 'PERSON'), ('Christopher Robin', 'PERSON'), ('Heffalump', 'ORG'), ('Pooh', 'PERSON'), ('Foolish Piglet', 'WORK_OF_ART'), ('Christopher Robin', 'PERSON'), ('Pooh', 'PERSON'), ('Christopher Robin', 'PERSON'), ('Pooh', 'PERSON'), ('EEYORE', 'ORG'), ('TWO', 'CARDINAL'), ('Eeyore', 'PERSON'), ('Donkey', 'PRODUCT'), ('Pathetic', 'ORG'), ('twenty yards', 'QUANTITY'), ('Pooh', 'PERSON'), ('Eeyore', 'ORG'), ('Pooh', 'PERSON'), ('Pooh Bear', 'PERSON'), ('Eeyore', 'NORP'), ('Pooh Bear', 'PERSON'), ('Pooh', 'PERSON'), ('bush', 'PERSON'), ('Pooh', 'PERSON'), ('mulberry bush', 'PERSON'), ('Eeyore', 'NORP'), ('French', 'NORP'), ('Pooh', 'PERSON'), ('Cottleston Pie', 'PERSON'), ('Cottleston', 'ORG'), ('Cottleston', 'ORG'), ('Cottleston Pie', 'PERSON'), ('Cottleston', 'PERSON'), ('Cottleston', 'ORG'), ('Cottleston Pie', 'PERSON'), ('first', 'ORDINAL'), ('Eeyore', 'ORG'), ('Pooh', 'PERSON'), ('second', 'ORDINAL'), ('Cottleston', 'ORG'), ('Cottleston', 'ORG'), ('Cottleston Pie', 'PERSON'), ('Cottleston', 'PERSON'), ('Cottleston', 'ORG'), ('Cottleston Pie', 'PERSON'), ('Eeyore', 'PERSON'), ('Pooh', 'PERSON'), ('third', 'ORDINAL'), ('Cottleston', 'ORG'), ('Cottleston', 'ORG'), ('Cottleston Pie', 'PERSON'), ('Cottleston', 'PERSON'), ('Cottleston', 'ORG'), ('Cottleston Pie', 'PERSON'), ('Eeyore', 'PERSON'), ('Nuts', 'PERSON'), ('May', 'DATE'), ('Pooh', 'PERSON'), ('Eeyore', 'PERSON'), ('Eeyore', 'PERSON'), ('the\\n\\nyear', 'DATE'), ('Pooh', 'PERSON'), ('Pooh', 'PERSON'), ('first', 'ORDINAL'), ('Pooh', 'PERSON'), ('Pooh', 'PERSON'), ('Pooh', 'PERSON'), ('Eeyore', 'PERSON'), ('Pooh', 'PERSON'), ('the day', 'DATE'), ('Eeyore', 'PERSON'), ('Pooh Bear', 'PERSON'), ('Pooh', 'PERSON'), ('Eeyore', 'PERSON'), ('Pooh', 'PERSON'), ('Eeyore', 'ORG'), ('Eeyore', 'NORP'), ('one', 'CARDINAL'), ('Piglet', 'ORG'), ('Pooh', 'PERSON'), ('Piglet', 'ORG'), ('Piglet', 'ORG'), ('Pooh', 'PERSON'), ('Eeyore', 'ORG'), ('Eeyore', 'PERSON'), ('Gloomy', 'PERSON'), ('Eeyore', 'PERSON'), ('Pooh', 'PERSON'), ('Piglet', 'ORG'), ('Pooh', 'PERSON'), ('first', 'ORDINAL'), ('Pooh', 'PERSON'), ('Eeyore', 'ORG'), ('Piglet', 'ORG'), ('Pooh', 'PERSON'), ('one', 'CARDINAL'), ('Eeyore', 'NORP'), ('Piglet', 'ORG'), ('Pooh', 'PERSON'), ('a warm day', 'DATE'), ('more than\\n\\n', 'DATE'), ('Pooh', 'PERSON'), ('Pooh', 'PERSON'), ('a warm day', 'DATE'), ('Eeyore', 'PERSON'), ('Eeyore', 'PERSON'), ('Bother', 'PERSON'), ('Pooh', 'PERSON'), ('Eeyore', 'ORG'), ('Useful', 'GPE'), ('Pooh', 'PERSON'), ('Eeyore', 'ORG'), ('Pooh', 'PERSON'), ('Pooh', 'PERSON'), ('Pooh', 'PERSON'), ('Pooh', 'PERSON'), ('Pooh', 'PERSON'), ('Wobbly', 'ORG'), ('Wobbles', 'PERSON'), (\"'A Happy Birthday'\", 'WORK_OF_ART'), ('Pooh', 'PERSON'), ('first', 'ORDINAL'), ('Pooh', 'PERSON'), ('Christopher Robin', 'PERSON'), ('Christopher Robin', 'PERSON'), ('Pooh', 'PERSON'), (\"A Happy Birthday'\", 'WORK_OF_ART'), ('Pooh', 'PERSON'), (\"'A Very Happy Birthday\", 'WORK_OF_ART'), ('Pooh', 'PERSON'), ('Pooh', 'PERSON'), ('Piglet', 'ORG'), ('Eeyore', 'ORG'), ('Pooh', 'PERSON'), ('Eeyore', 'ORG'), ('first', 'ORDINAL'), ('Christopher Robin', 'PERSON'), ('Pooh', 'PERSON'), ('Eeyore', 'PERSON'), ('Piglet', 'WORK_OF_ART'), ('Eeyore', 'PERSON'), ('Eeyore', 'PERSON'), ('Eeyore', 'ORG'), ('Piglet', 'FAC'), ('Little Piglet', 'PERSON'), ('Eeyore', 'PERSON'), ('a good morning', 'TIME'), ('the day', 'DATE'), ('Piglet', 'ORG'), ('Eeyore', 'PERSON'), ('three', 'CARDINAL'), ('fourth', 'ORDINAL'), ('this yesterday', 'DATE'), ('third', 'ORDINAL'), ('the day', 'DATE'), ('Piglet', 'ORG'), ('Eeyore', 'PERSON'), ('Eeyore', 'PERSON'), ('Eeyore', 'PERSON'), ('Piglet', 'WORK_OF_ART'), ('Eeyore', 'PERSON'), ('Eeyore', 'PERSON'), ('Balloon', 'WORK_OF_ART'), ('Eeyore', 'PERSON'), ('One', 'CARDINAL'), ('Eeyore', 'ORG'), ('Little Piglet', 'PERSON'), ('Eeyore', 'PERSON'), ('Eeyore', 'PERSON'), ('Eeyore', 'PERSON'), ('Piglet', 'ORG'), ('the day', 'DATE'), ('Eeyore', 'NORP'), ('Eeyore', 'PERSON'), ('Piglet', 'ORG'), ('Eeyore', 'PERSON'), ('Piglet', 'ORG'), ('Pooh', 'PERSON'), ('the day', 'DATE'), ('Pooh', 'PERSON'), ('Pooh', 'PERSON'), ('Eeyore', 'NORP'), ('Pooh', 'PERSON'), ('Eeyore', 'PERSON'), ('Pooh', 'PERSON'), ('Eeyore', 'ORG'), ('Piglet', 'ORG'), ('Pooh', 'PERSON'), (\"'A Very Happy\\n\\nBirthday\", 'WORK_OF_ART'), ('Pooh', 'PERSON'), ('Eeyore', 'PERSON'), ('Balloon', 'ORG'), ('Eeyore', 'PERSON'), ('Pooh', 'PERSON'), ('Pots', 'ORG'), ('ballon----', 'PRODUCT'), ('Eeyore', 'PERSON'), ('Piglet', 'ORG'), ('Eeyore', 'ORG'), ('Pooh', 'PERSON'), ('Piglet', 'ORG'), ('Eeyore', 'PERSON'), ('Pooh', 'PERSON'), ('Piglet', 'ORG'), ('Eeyore', 'PERSON'), ('Christopher Robin', 'PERSON'), ('three', 'CARDINAL'), ('Christopher Robin', 'PERSON'), ('CHAPTER VII\\n\\n\\n\\n                    IN WHICH KANGA AND BABY ROO', 'LAW'), ('Baby Roo', 'PERSON'), ('Pooh', 'PERSON'), ('Christopher Robin', 'PERSON'), ('Christopher Robin', 'PERSON'), ('In the Usual Way', 'WORK_OF_ART'), ('Pooh', 'PERSON'), ('Pooh', 'PERSON'), ('In the Usual Way', 'WORK_OF_ART'), ('Piglet', 'ORG'), ('Rabbit', 'WORK_OF_ART'), ('Pooh', 'PERSON'), ('Eeyore', 'PERSON'), ('Pooh', 'PERSON'), ('Eeyore', 'PERSON'), ('Pooh', 'PERSON'), ('Eeyore', 'ORG'), ('Pooh', 'PERSON'), ('one morning', 'TIME'), ('Sixteen', 'WORK_OF_ART'), ('Piglet', 'ORG'), ('Seventeen', 'CARDINAL'), ('Rabbit', 'WORK_OF_ART'), ('one', 'CARDINAL'), ('eighteen', 'DATE'), ('Eighteen', 'CARDINAL'), ('one', 'CARDINAL'), ('Pooh', 'PERSON'), ('some minutes', 'TIME'), ('fifteen', 'CARDINAL'), ('Rabbit', 'WORK_OF_ART'), ('Fifteen', 'CARDINAL'), ('Fifteen', 'CARDINAL'), ('Pooh', 'PERSON'), ('Rabbit', 'WORK_OF_ART'), ('Pooh', 'PERSON'), ('Piglet', 'ORG'), ('Kanga', 'GPE'), ('Pooh', 'PERSON'), ('Rabbit', 'WORK_OF_ART'), ('Baby Roo', 'PERSON'), ('Kanga', 'PERSON'), (\"Where's Baby\\n\\nRoo\", 'WORK_OF_ART'), ('Pooh', 'PERSON'), ('Baby Roo', 'PERSON'), ('Rabbit', 'WORK_OF_ART'), ('Pooh', 'PERSON'), ('Kanga', 'GPE'), ('Baby Roo', 'PERSON'), ('Baby Roo', 'PERSON'), ('Forest', 'ORG'), ('Rabbit', 'ORG'), ('Kanga', 'GPE'), ('Piglet', 'ORG'), ('Christopher Robin', 'PERSON'), ('Kanga', 'GPE'), ('One', 'CARDINAL'), ('Fierce Animals', 'ORG'), ('One', 'CARDINAL'), ('Deprived of Its Young', 'ORG'), ('Two', 'CARDINAL'), ('Rabbit', 'WORK_OF_ART'), ('Piglet', 'ORG'), ('Useful', 'GPE'), ('Kangas', 'ORG'), ('Fierce', 'ORG'), ('the winter months', 'DATE'), ('Pooh', 'PERSON'), ('Pooh', 'PERSON'), ('Piglet', 'ORG'), ('Without Pooh', 'PERSON'), ('Piglet', 'ORG'), ('Pooh', 'PERSON'), ('Bear', 'ORG'), ('1', 'CARDINAL'), ('Remarks', 'PERSON'), ('Kanga', 'PERSON'), ('Us', 'GPE'), ('2', 'CARDINAL'), ('Remarks', 'PERSON'), ('Kanga', 'PERSON'), ('Baby Roo', 'PERSON'), ('3', 'CARDINAL'), ('Baby Roo', 'PERSON'), ('a Long\\n\\n      Start', 'WORK_OF_ART'), ('Kanga', 'GPE'), ('Us', 'GPE'), ('1', 'CARDINAL'), ('4', 'CARDINAL'), ('Roo', 'PERSON'), ('Kanga', 'GPE'), ('Kanga', 'GPE'), ('a Very Small Animal', 'ORG'), ('5', 'CARDINAL'), ('Roo', 'PERSON'), ('6', 'CARDINAL'), ('Kanga', 'GPE'), ('first', 'ORDINAL'), ('Piglet', 'ORG'), ('7', 'CARDINAL'), ('2', 'CARDINAL'), ('8', 'CARDINAL'), ('Pooh', 'PERSON'), ('9', 'CARDINAL'), ('Roo', 'PERSON'), ('10', 'CARDINAL'), ('11', 'CARDINAL'), ('Kanga', 'GPE'), ('Piglet', 'ORG'), ('Kanga', 'PERSON'), ('Discover the Difference', 'WORK_OF_ART'), ('three', 'CARDINAL'), ('Piglet', 'ORG'), ('Piglet', 'ORG'), ('three', 'CARDINAL'), ('three', 'CARDINAL'), ('Piglet', 'ORG'), ('about the winter months', 'DATE'), ('The winter months', 'DATE'), ('Fierce', 'ORG'), ('the Winter Months', 'DATE'), ('Pooh', 'PERSON'), ('Pooh Bear', 'PERSON'), ('Kanga', 'GPE'), ('Rabbit', 'WORK_OF_ART'), ('Kanga', 'GPE'), ('Kanga', 'PERSON'), ('Roo', 'PERSON'), ('afternoon', 'TIME'), ('the\\n\\nForest', 'ORG'), ('Baby Roo', 'PERSON'), ('Kanga', 'GPE'), ('one', 'CARDINAL'), ('Pooh', 'PERSON'), ('afternoon', 'TIME'), ('Kanga', 'GPE'), ('afternoon', 'TIME'), ('Pooh', 'PERSON'), ('Roo', 'PERSON'), ('Roo', 'PERSON'), ('Kanga', 'GPE'), ('afternoon', 'TIME'), ('Piglet', 'ORG'), ('Rabbit and Piglet', 'WORK_OF_ART'), ('afternoon', 'TIME'), ('Hallo, Roo', 'WORK_OF_ART'), ('Roo', 'PERSON'), ('Kanga', 'PERSON'), ('Kanga', 'GPE'), ('Pooh', 'PERSON'), ('Rabbit', 'WORK_OF_ART'), ('Kanga', 'GPE'), ('Pooh', 'PERSON'), ('one', 'CARDINAL'), ('Roo', 'PERSON'), ('Pooh', 'PERSON'), ('Kanga', 'GPE'), ('Roo', 'PERSON'), ('Rabbit', 'WORK_OF_ART'), ('Piglet', 'ORG'), ('Rabbit', 'WORK_OF_ART'), ('Piglet', 'ORG'), ('Kanga', 'PERSON'), ('Baby Roo', 'PERSON'), ('Pooh', 'PERSON'), ('Rabbit', 'WORK_OF_ART'), ('Pooh', 'PERSON'), ('BRAIN', 'ORG'), ('Monday', 'DATE'), ('Tuesday', 'DATE'), ('Wednesday', 'DATE'), ('Thursday', 'DATE'), ('Kanga', 'PERSON'), ('Friday', 'DATE'), ('one', 'CARDINAL'), ('Roo', 'PERSON'), ('Pooh', 'PERSON'), ('Pooh', 'PERSON'), ('Kanga', 'GPE'), ('Pooh', 'PERSON'), ('Kanga', 'GPE'), ('Kanga', 'GPE'), ('Roo', 'PERSON'), ('Rabbit', 'WORK_OF_ART'), ('Roo', 'PERSON'), ('Roo', 'PERSON'), ('Pooh', 'PERSON'), ('Rabbit', 'WORK_OF_ART'), ('Piglet', 'ORG'), ('Rabbit', 'WORK_OF_ART'), ('Pooh', 'PERSON'), ('Rabbit', 'WORK_OF_ART'), ('Kanga', 'GPE'), ('Rabbit', 'ORG'), ('Roo', 'PERSON'), ('Piglet', 'ORG'), ('Kanga', 'GPE'), ('Rabbit', 'WORK_OF_ART'), ('Roo', 'PERSON'), ('Kanga', 'PERSON'), ('Roo', 'PERSON'), ('Roo', 'PERSON'), ('Kanga', 'GPE'), ('Pooh', 'PERSON'), ('Kanga', 'GPE'), ('Pooh', 'PERSON'), ('three', 'CARDINAL'), ('Pooh', 'PERSON'), ('Piglet', 'ORG'), ('Kanga', 'GPE'), ('Kanga', 'GPE'), ('Ooooooo', 'PERSON'), ('Ooooooo-ow', 'PERSON'), ('Ooooooo', 'PERSON'), ('Kanga', 'GPE'), ('Kanga', 'GPE'), ('Christopher Robin', 'PERSON'), ('Roo', 'PERSON'), ('Roo', 'PERSON'), ('Piglet', 'FAC'), ('Piglet', 'ORG'), ('Terrifying Journey', 'PERSON'), ('Kanga', 'GPE'), ('first', 'ORDINAL'), ('Kanga', 'PERSON'), ('Piglet', 'ORG'), ('Baby Roo', 'PERSON'), ('every minute', 'TIME'), ('Pooh', 'PERSON'), ('Kanga', 'GPE'), ('the\\n\\nForest', 'ORG'), ('Kanga', 'PERSON'), ('Roo', 'PERSON'), ('Kanga', 'PERSON'), ('Funny little Roo', 'WORK_OF_ART'), ('Kanga', 'GPE'), ('Roo', 'PERSON'), ('Piglet', 'ORG'), ('Kanga', 'PERSON'), ('Piglet', 'ORG'), ('Piglet', 'WORK_OF_ART'), ('Roo', 'PERSON'), ('Kanga', 'PERSON'), ('yesterday', 'DATE'), ('Piglet', 'ORG'), ('Piglet', 'ORG'), ('Piglet', 'ORG'), ('Kanga', 'GPE'), ('Piglet', 'WORK_OF_ART'), ('Kanga', 'GPE'), ('Piglet', 'ORG'), ('Kanga', 'PERSON'), ('another\\n\\nminute Piglet', 'TIME'), ('Kanga', 'PERSON'), ('Piglet', 'ORG'), ('Piglet', 'ORG'), ('Kanga', 'PERSON'), ('Christopher Robin', 'PERSON'), ('Christopher Robin', 'PERSON'), ('Christopher Robin', 'PERSON'), ('Piglet', 'WORK_OF_ART'), ('Tell Kanga', 'PERSON'), ('Roo', 'PERSON'), ('Roo', 'PERSON'), ('Christopher Robin', 'PERSON'), ('Kanga', 'PERSON'), ('Piglet', 'ORG'), ('Christopher Robin', 'PERSON'), ('Piglet', 'ORG'), ('Kanga', 'PERSON'), ('Piglet', 'ORG'), ('Kanga', 'GPE'), ('Pooh', 'PERSON'), ('Christopher Robin', 'PERSON'), ('Kanga', 'PERSON'), ('Christopher Robin', 'PERSON'), ('Henry Pootel', 'PERSON'), ('Henry Pootel', 'PERSON'), ('Kanga', 'GPE'), ('Christopher Robin', 'PERSON'), ('Henry Pootel Piglet', 'FAC'), ('a hundred yards', 'QUANTITY'), ('Kanga', 'PERSON'), ('Roo', 'PERSON'), ('Tuesday', 'DATE'), ('Roo', 'PERSON'), ('the\\n\\nday', 'DATE'), ('Tuesday', 'DATE'), ('Kanga', 'PERSON'), ('the day', 'DATE'), ('Pooh', 'PERSON'), ('Tuesday', 'DATE'), ('the day', 'DATE'), ('Christopher Robin', 'PERSON'), ('One', 'CARDINAL'), ('Pooh', 'PERSON'), ('Christopher Robin', 'PERSON'), ('Bears', 'LOC'), ('that morning', 'TIME'), ('two', 'CARDINAL'), ('Sing Ho', 'PERSON'), ('Bear', 'ORG'), ('second', 'ORDINAL'), ('Ho', 'PERSON'), ('two', 'CARDINAL'), ('three', 'CARDINAL'), ('Bear', 'ORG'), ('first', 'ORDINAL'), ('third', 'ORDINAL'), ('fourth', 'ORDINAL'), ('a Good Song', 'PERSON'), ('Pooh', 'PERSON'), ('an hour', 'TIME'), ('two', 'CARDINAL'), ('Christopher Robin', 'PERSON'), ('the Big Boots', 'ORG'), ('Pooh', 'PERSON'), ('Anything', 'GPE'), ('Christopher Robin', 'PERSON'), ('Pooh Bear', 'PERSON'), ('Pooh', 'PERSON'), ('Pooh', 'PERSON'), (\"Christopher Robin's\", 'PERSON'), ('Christopher Robin', 'PERSON'), ('Pooh', 'PERSON'), ('Expedition', 'PRODUCT'), ('Christopher Robin', 'PERSON'), ('Pooh', 'PERSON'), ('Going on an Expotition', 'WORK_OF_ART'), ('Pooh', 'PERSON'), ('one', 'CARDINAL'), ('Bear', 'ORG'), ('Pooh', 'PERSON'), ('the North Pole', 'LOC'), ('Pooh', 'PERSON'), ('the North Pole', 'LOC'), ('Christopher Robin', 'PERSON'), ('Pooh', 'PERSON'), ('Kanga', 'GPE'), ('Expedition', 'ORG'), ('Provisions', 'PRODUCT'), ('Pooh', 'PERSON'), ('first', 'ORDINAL'), ('Rabbit', 'WORK_OF_ART'), ('Rabbit', 'WORK_OF_ART'), ('Christopher Robin', 'PERSON'), ('Pooh', 'PERSON'), ('Mole', 'ORG'), ('Rabbit', 'WORK_OF_ART'), ('Piglet', 'ORG'), ('Tell Kanga', 'PERSON'), ('Piglet', 'ORG'), ('Piglet', 'ORG'), ('this year', 'DATE'), ('next year', 'DATE'), ('Pooh', 'PERSON'), ('Pooh', 'PERSON'), ('Piglet', 'ORG'), ('Christopher Robin', 'PERSON'), ('Piglet', 'ORG'), ('Christopher Robin', 'PERSON'), ('First', 'ORDINAL'), ('Christopher Robin', 'PERSON'), ('Piglet', 'ORG'), ('Pooh', 'PERSON'), ('Kanga', 'GPE'), ('Roo', 'PERSON'), ('Eeyore', 'PERSON'), ('Rabbit', 'LAW'), ('Eeyore', 'PERSON'), ('Eeyore', 'PERSON'), ('Expo', 'EVENT'), ('Pooh', 'PERSON'), ('Expo', 'EVENT'), ('half a dozen', 'CARDINAL'), ('Rabbit', 'ORG'), ('first', 'ORDINAL'), ('Expo', 'EVENT'), ('Confused Noise', 'PERSON'), ('Eeyore', 'NORP'), ('Eeyore', 'PERSON'), ('the North Pole', 'LOC'), ('Nuts', 'ORG'), ('May', 'PERSON'), ('Christopher Robin', 'PERSON'), ('Pooh and Piglet', 'WORK_OF_ART'), ('Rabbit', 'WORK_OF_ART'), ('Christopher Robin', 'PERSON'), ('Eeyore', 'PERSON'), ('Pooh', 'PERSON'), ('first', 'ORDINAL'), ('Piglet', 'ORG'), ('First', 'ORDINAL'), ('Piglet', 'ORG'), ('Pooh', 'PERSON'), ('Christopher Robin', 'PERSON'), ('Pooh', 'PERSON'), ('Christopher Robin', 'PERSON'), ('Pooh', 'PERSON'), ('Pooh', 'PERSON'), ('Piglet', 'ORG'), ('Hush', 'PERSON'), ('Piglet', 'ORG'), ('Kanga', 'GPE'), ('Hush', 'PERSON'), ('Kanga', 'PERSON'), ('Roo', 'PERSON'), ('Hush', 'PERSON'), ('Hush', 'PERSON'), ('Eeyore', 'NORP'), ('Hush', 'PERSON'), ('Eeyore', 'PERSON'), ('Rabbit', 'WORK_OF_ART'), ('two days', 'DATE'), ('Aunt', 'ORG'), ('Alexander Beetle', 'PERSON'), ('Christopher Robin', 'PERSON'), ('bush', 'PERSON'), ('Pooh to Piglet', 'WORK_OF_ART'), ('bush', 'PERSON'), ('Pooh', 'PERSON'), ('Piglet', 'ORG'), ('Pooh', 'PERSON'), ('bush', 'PERSON'), ('Pooh', 'PERSON'), ('Pooh', 'PERSON'), ('Piglet', 'ORG'), ('Pooh', 'PERSON'), ('Pooh', 'PERSON'), ('bush', 'PERSON'), ('one day', 'DATE'), ('six\\n\\ndays', 'DATE'), ('Pooh', 'PERSON'), ('Christopher Robin', 'PERSON'), ('Christopher Robin', 'PERSON'), ('Pooh', 'PERSON'), ('Piglet', 'ORG'), ('Pooh', 'PERSON'), ('Christopher Robin', 'PERSON'), ('Eeyore', 'PERSON'), ('Pooh', 'PERSON'), ('Pooh', 'PERSON'), ('Pooh', 'PERSON'), ('Good', 'PERSON'), ('Consideration', 'ORG'), ('Thought for\\n\\nOthers', 'ORG'), ('Christopher Robin', 'PERSON'), ('Rabbit', 'ORG'), ('Christopher Robin', 'PERSON'), ('Rabbit', 'WORK_OF_ART'), ('the North Pole', 'LOC'), ('Rabbit', 'WORK_OF_ART'), ('Christopher Robin', 'PERSON'), ('Rabbit', 'WORK_OF_ART'), ('Rabbit', 'WORK_OF_ART'), ('Rabbit', 'WORK_OF_ART'), ('Christopher Robin', 'PERSON'), ('Kanga\\n\\n', 'ORG'), ('first', 'ORDINAL'), ('Kanga', 'GPE'), ('Kanga', 'GPE'), ('Eeyore', 'PERSON'), ('Pooh', 'PERSON'), ('Pooh', 'PERSON'), ('Pooh', 'PERSON'), ('Roo', 'PERSON'), ('Kanga', 'GPE'), ('Eeyore', 'PERSON'), ('Rabbit', 'WORK_OF_ART'), ('Christopher Robin', 'PERSON'), ('Roo', 'PERSON'), ('Roo', 'PERSON'), ('Kanga', 'ORG'), ('Roo', 'PERSON'), ('Sudden', 'GPE'), ('the Head Above Water', 'LAW'), ('Kanga', 'GPE'), ('Roo', 'PERSON'), ('Roo', 'PERSON'), ('Eeyore', 'ORG'), ('first', 'ORDINAL'), ('Christopher Robin', 'PERSON'), ('Eeyore', 'ORG'), ('Roo', 'PERSON'), ('Christopher Robin', 'PERSON'), ('Rabbit', 'WORK_OF_ART'), ('Pooh', 'PERSON'), ('Two', 'CARDINAL'), ('Roo', 'PERSON'), ('Kanga', 'GPE'), ('one', 'CARDINAL'), ('Roo', 'PERSON'), ('Roo', 'PERSON'), ('Kanga', 'GPE'), ('Pooh', 'PERSON'), ('Christopher Robin', 'PERSON'), ('Christopher Robin', 'PERSON'), ('Pooh', 'PERSON'), ('Pooh', 'PERSON'), ('Pooh', 'PERSON'), ('Christopher Robin', 'PERSON'), ('Expedition', 'PRODUCT'), ('the North Pole', 'LOC'), ('Pooh', 'PERSON'), ('Eeyore', 'PERSON'), ('Tell Roo', 'PERSON'), ('Roo', 'PERSON'), ('Eeyore', 'PERSON'), ('Eeyore', 'PERSON'), ('Christopher Robin', 'PERSON'), ('Christopher Robin', 'PERSON'), ('Eeyore', 'PERSON'), ('Christopher Robin', 'PERSON'), ('Belongs', 'ORG'), ('Eeyore', 'ORG'), ('Pooh', 'PERSON'), ('Hullo', 'ORG'), ('Pooh', 'PERSON'), ('a day or', 'DATE'), ('two', 'CARDINAL'), ('Pooh', 'PERSON'), ('Pooh', 'PERSON'), ('Pooh', 'PERSON'), ('Pooh', 'PERSON'), ('Christopher Robin', 'PERSON'), ('Pooh', 'PERSON'), ('the North Pole', 'LOC'), ('Christopher Robin', 'PERSON'), ('Pooh', 'PERSON'), ('Eeyore', 'PERSON'), ('Christopher Robin', 'PERSON'), ('Pooh', 'PERSON'), ('Eeyore', 'PERSON'), ('Christopher Robin', 'PERSON'), ('Roo', 'PERSON'), ('Pooh', 'PERSON'), ('CHAPTER IX\\n\\n\\n\\n                       IN', 'ORG'), ('ENTIRELY\\n\\n                           SURROUNDED BY WATER', 'PERSON'), ('three', 'CARDINAL'), ('Days and days and', 'DATE'), ('Pooh', 'PERSON'), (\"Christopher Robin's\", 'PERSON'), ('Rabbit', 'ORG'), ('Pooh', 'PERSON'), ('Pooh', 'PERSON'), ('Pooh', 'PERSON'), ('Piglet', 'ORG'), ('Piglet', 'ORG'), (\"Christopher Robin's\", 'PERSON'), ('Pooh', 'PERSON'), ('Rabbit', 'WORK_OF_ART'), ('Piglet', 'ORG'), ('Piglet', 'PERSON'), ('a Very Small Animal', 'ORG'), ('Christopher Robin', 'PERSON'), ('Pooh', 'PERSON'), ('Kanga', 'GPE'), ('Jumping', 'GPE'), ('Flying', 'ORG'), ('Eeyore', 'ORG'), ('Piglet', 'ORG'), ('Pooh', 'PERSON'), ('Pooh', 'PERSON'), ('Brain', 'ORG'), ('Brain', 'ORG'), ('the Right Thing', 'ORG'), ('Learnt', 'PERSON'), ('Kanga', 'GPE'), ('Clever', 'GPE'), ('Kanga', 'GPE'), ('Roo', 'PERSON'), ('a Good Thing', 'PERSON'), ('Eeyore', 'ORG'), ('Eeyore', 'PERSON'), ('Christopher Robin', 'PERSON'), ('Christopher Robin', 'PERSON'), ('Piglet', 'ORG'), ('one', 'CARDINAL'), ('HELP HELP', 'PERSON'), ('Pooh', 'PERSON'), ('two', 'CARDINAL'), ('Pooh', 'PERSON'), ('the North Pole', 'LOC'), ('Christopher Robin', 'PERSON'), ('Poles', 'NORP'), ('Bear of Little Brain', 'ORG'), ('Christopher Robin', 'PERSON'), ('Pooh', 'PERSON'), ('the East Pole', 'LOC'), ('Christopher Robin', 'PERSON'), ('Kanga', 'GPE'), ('Pooh', 'PERSON'), ('the East Pole', 'LOC'), ('the East Pole', 'LOC'), ('Wild Woozles', 'PERSON'), ('the East Pole', 'LOC'), ('Pooh', 'PERSON'), ('Escape', 'FAC'), ('Escape', 'PERSON'), ('Pooh', 'PERSON'), ('ten', 'CARDINAL'), ('Two days later', 'DATE'), ('Pooh', 'PERSON'), ('four', 'CARDINAL'), ('Three days later', 'DATE'), ('Pooh', 'PERSON'), ('one', 'CARDINAL'), ('Four days later', 'DATE'), ('Pooh', 'PERSON'), ('the morning', 'TIME'), ('the fourth day', 'DATE'), ('Piglet', 'ORG'), ('one', 'CARDINAL'), ('Honey', 'ORG'), ('Pooh', 'PERSON'), ('Pooh', 'PERSON'), ('Christopher Robin', 'PERSON'), ('one', 'CARDINAL'), ('Clever Readers', 'ORG'), ('a Bear of Very Little Brain', 'ORG'), ('The Floating Bear', 'WORK_OF_ART'), ('Pooh', 'PERSON'), ('The Floating Bear', 'WORK_OF_ART'), ('one', 'CARDINAL'), ('two', 'CARDINAL'), ('The Floating Bear', 'WORK_OF_ART'), ('Pooh', 'PERSON'), ('Christopher Robin', 'PERSON'), ('Every morning', 'TIME'), ('each morning', 'TIME'), ('the morning', 'TIME'), ('the morning', 'TIME'), ('fifth', 'ORDINAL'), ('first', 'ORDINAL'), ('this morning', 'TIME'), ('Christopher Robin', 'PERSON'), ('Christopher Robin', 'PERSON'), ('Christopher Robin', 'PERSON'), ('Christopher Robin', 'PERSON'), ('Pooh', 'PERSON'), ('Christopher Robin', 'PERSON'), ('Piglet', 'PERSON'), ('Pooh', 'PERSON'), ('Pooh', 'PERSON'), ('nine', 'CARDINAL'), ('Pooh', 'PERSON'), ('Christopher Robin', 'PERSON'), ('Pooh', 'PERSON'), ('Pooh', 'PERSON'), ('Christopher Robin', 'PERSON'), ('Pooh', 'PERSON'), ('Christopher Robin', 'PERSON'), ('Piglet', 'ORG'), ('Christopher Robin', 'PERSON'), ('Pooh', 'PERSON'), ('Bear', 'ORG'), ('Christopher Robin', 'PERSON'), ('Pooh', 'PERSON'), ('Rescue', 'ORG'), ('Pooh', 'PERSON'), ('Rescue', 'ORG'), ('Pooh', 'PERSON'), ('Christopher Robin', 'PERSON'), ('Pooh', 'PERSON'), ('Pooh', 'PERSON'), ('The Floating Bear', 'WORK_OF_ART'), ('Christopher Robin', 'PERSON'), ('Bear Pooh', 'PERSON'), ('Christopher Robin', 'PERSON'), ('Pooh', 'PERSON'), ('two', 'CARDINAL'), ('Christopher Robin', 'PERSON'), ('Three', 'CARDINAL'), ('Piglet', 'ORG'), ('Pooh Bear', 'PERSON'), ('Bear', 'ORG'), ('Pooh Bear', 'PERSON'), ('Winnie', 'PERSON'), ('F.O.P.', 'PERSON'), ('R.C.', 'PERSON'), ('P.D.', 'GPE'), ('E.C.', 'GPE'), ('Eeyore', 'ORG'), ('Pooh', 'PERSON'), ('Christopher Robin', 'PERSON'), ('the Bear of\\n\\nVery Little Brain', 'ORG'), ('Pooh', 'PERSON'), ('Pooh', 'PERSON'), ('Pooh', 'PERSON'), ('Christopher Robin', 'PERSON'), ('Christopher Robin', 'PERSON'), ('The Brain of Pooh', 'WORK_OF_ART'), ('Christopher Robin', 'PERSON'), ('The Brain of Pooh', 'WORK_OF_ART'), ('Piglet', 'ORG'), ('after-years', 'DATE'), ('Very Great Danger', 'FAC'), ('the Terrible Flood', 'EVENT'), ('the last half-hour', 'DATE'), ('Owl', 'ORG'), ('Piglet', 'ORG'), ('Brain', 'ORG'), ('C. Robin', 'PERSON'), ('1st', 'ORDINAL'), ('P. Bear', 'PERSON'), ('Christopher Robin', 'PERSON'), ('Pooh', 'PERSON'), ('CHAPTER X\\n\\n\\n\\n                    IN WHICH CHRISTOPHER', 'LAW'), ('One day', 'DATE'), ('Forest', 'PERSON'), ('Forest', 'PERSON'), ('Christopher Robin', 'PERSON'), ('Christopher Robin', 'PERSON'), ('Pooh', 'PERSON'), ('Piglet', 'ORG'), ('Pooh', 'PERSON'), ('first', 'ORDINAL'), ('Pooh', 'PERSON'), ('Pooh', 'PERSON'), ('Christopher Robin', 'PERSON'), ('Pooh', 'PERSON'), ('Pooh', 'PERSON'), ('Christopher Robin', 'PERSON'), ('Eeyore', 'ORG'), ('Pooh', 'PERSON'), ('Pooh\\n\\nParty', 'ORG'), ('Christopher Robin', 'PERSON'), ('The Floating Bear', 'WORK_OF_ART'), ('3', 'CARDINAL'), ('Cheers for Pooh', 'WORK_OF_ART'), ('3', 'CARDINAL'), ('Cheers for Bear!\\n\\n    ', 'WORK_OF_ART'), ('Pooh--', 'ORG'), ('Pooh', 'PERSON'), ('three', 'CARDINAL'), ('three', 'CARDINAL'), ('years', 'DATE'), ('years', 'DATE'), ('3', 'CARDINAL'), ('Cheers for Pooh', 'WORK_OF_ART'), ('Pooh--\\n\\n    3', 'PRODUCT'), ('3', 'CARDINAL'), ('Winnie-the-Pooh', 'ORG'), ('Eeyore', 'ORG'), ('Eeyore', 'PERSON'), ('Christopher Robin', 'PERSON'), ('Eeyore', 'PERSON'), ('Eeyore', 'PERSON'), ('Christopher Robin', 'PERSON'), ('Eeyore', 'PERSON'), ('Eeyore', 'PERSON'), ('Christopher Robin', 'PERSON'), ('Christopher Robin', 'PERSON'), ('Pooh', 'PERSON'), ('Eeyore', 'PERSON'), ('Piglet', 'ORG'), ('Roo', 'PERSON'), ('Kanga', 'GPE'), ('first', 'ORDINAL'), ('Roo', 'PERSON'), ('Pooh', 'PERSON'), ('Pooh', 'PERSON'), ('Roo', 'PERSON'), ('Roo', 'PERSON'), ('Eeyore', 'PERSON'), ('Roo', 'PERSON'), ('Owl!\"--and Owl', 'ORG'), ('Christopher Robin', 'PERSON'), ('Christopher Robin', 'PERSON'), ('Kanga', 'GPE'), ('first', 'ORDINAL'), ('Roo', 'PERSON'), ('Christopher Robin', 'PERSON'), ('Roo', 'PERSON'), ('Rabbit', 'ORG'), ('Christopher Robin', 'PERSON'), ('Eeyore', 'ORG'), ('Rabbit and Owl and\\n\\nKanga', 'WORK_OF_ART'), ('Pooh', 'PERSON'), ('Piglet', 'ORG'), ('Roo', 'PERSON'), ('Christopher Robin', 'PERSON'), ('Roo', 'PERSON'), ('Kanga', 'GPE'), ('Roo', 'PERSON'), ('Eeyore', 'PERSON'), ('Pooh', 'PERSON'), ('Pooh', 'PERSON'), ('Gutenberg', 'ORG'), ('2001', 'DATE'), ('the Project\\n\\nGutenberg Literary Archive Foundation', 'ORG'), ('Project Gutenberg', 'ORG'), ('the Project Gutenberg Literary\\n\\nArchive Foundation', 'ORG'), ('3', 'CARDINAL'), ('Foundation', 'ORG'), ('Section 3', 'LAW'), ('the Project Gutenberg Literary Archive Foundation', 'ORG'), ('Literary Archive Foundation', 'ORG'), ('Mississippi', 'GPE'), ('the Internal\\n\\nRevenue Service', 'ORG'), ('EIN', 'ORG'), ('64-6221541', 'CARDINAL'), ('the Project Gutenberg Literary\\n\\nArchive Foundation', 'ORG'), ('U.S.', 'GPE'), ('Foundation', 'ORG'), ('809', 'CARDINAL'), ('North 1500 West', 'LOC'), ('Salt Lake City', 'GPE'), ('801', 'CARDINAL'), ('596-1887', 'DATE'), ('Foundation', 'ORG'), ('Section 4', 'LAW'), ('the Project Gutenberg\\n\\nLiterary Archive Foundation', 'ORG'), ('Project Gutenberg', 'PERSON'), ('$1 to $5,000', 'MONEY'), ('IRS', 'ORG'), ('Foundation', 'ORG'), ('50', 'CARDINAL'), ('the United\\n\\nStates', 'GPE'), ('SEND', 'ORG'), ('the United States', 'GPE'), ('U.S.', 'GPE'), ('Section 5', 'LAW'), ('General Information', 'ORG'), ('Michael S. Hart', 'PERSON'), ('the Project\\n\\nGutenberg', 'ORG'), ('forty years', 'DATE'), ('Project Gutenberg', 'ORG'), ('eBooks', 'ORG'), ('Project Gutenberg', 'PERSON'), ('eBooks', 'ORG'), ('U.S.', 'GPE'), ('eBooks', 'ORG'), ('Project Gutenberg', 'ORG'), ('the Project Gutenberg Literary\\n\\nArchive Foundation', 'ORG'), ('eBooks', 'ORG'), ('eBooks', 'ORG')]\n"
     ]
    }
   ],
   "source": [
    "named_ents = []\n",
    "\n",
    "# go through the entities and append each to the list\n",
    "for ent in doc.ents:\n",
    "    named_ents.append((ent.text, ent.label_))\n",
    "    \n",
    "print(named_ents)"
   ]
  },
  {
   "cell_type": "code",
   "execution_count": 111,
   "id": "c4adaf06-2c97-4581-8b44-2ae8b8164350",
   "metadata": {},
   "outputs": [
    {
     "data": {
      "text/html": [
       "<div>\n",
       "<style scoped>\n",
       "    .dataframe tbody tr th:only-of-type {\n",
       "        vertical-align: middle;\n",
       "    }\n",
       "\n",
       "    .dataframe tbody tr th {\n",
       "        vertical-align: top;\n",
       "    }\n",
       "\n",
       "    .dataframe thead th {\n",
       "        text-align: right;\n",
       "    }\n",
       "</style>\n",
       "<table border=\"1\" class=\"dataframe\">\n",
       "  <thead>\n",
       "    <tr style=\"text-align: right;\">\n",
       "      <th></th>\n",
       "      <th>Entity</th>\n",
       "      <th>Label</th>\n",
       "    </tr>\n",
       "  </thead>\n",
       "  <tbody>\n",
       "    <tr>\n",
       "      <th>0</th>\n",
       "      <td>A. A. MILNE</td>\n",
       "      <td>PERSON</td>\n",
       "    </tr>\n",
       "    <tr>\n",
       "      <th>1</th>\n",
       "      <td>JUVENILES</td>\n",
       "      <td>PERSON</td>\n",
       "    </tr>\n",
       "    <tr>\n",
       "      <th>2</th>\n",
       "      <td>EDWARD\\n\\n    NEWTON</td>\n",
       "      <td>ORG</td>\n",
       "    </tr>\n",
       "    <tr>\n",
       "      <th>3</th>\n",
       "      <td>Fourteen</td>\n",
       "      <td>CARDINAL</td>\n",
       "    </tr>\n",
       "    <tr>\n",
       "      <th>4</th>\n",
       "      <td>A. A. Milne</td>\n",
       "      <td>PERSON</td>\n",
       "    </tr>\n",
       "    <tr>\n",
       "      <th>...</th>\n",
       "      <td>...</td>\n",
       "      <td>...</td>\n",
       "    </tr>\n",
       "    <tr>\n",
       "      <th>1648</th>\n",
       "      <td>eBooks</td>\n",
       "      <td>ORG</td>\n",
       "    </tr>\n",
       "    <tr>\n",
       "      <th>1649</th>\n",
       "      <td>Project Gutenberg</td>\n",
       "      <td>ORG</td>\n",
       "    </tr>\n",
       "    <tr>\n",
       "      <th>1650</th>\n",
       "      <td>the Project Gutenberg Literary\\n\\nArchive Foun...</td>\n",
       "      <td>ORG</td>\n",
       "    </tr>\n",
       "    <tr>\n",
       "      <th>1651</th>\n",
       "      <td>eBooks</td>\n",
       "      <td>ORG</td>\n",
       "    </tr>\n",
       "    <tr>\n",
       "      <th>1652</th>\n",
       "      <td>eBooks</td>\n",
       "      <td>ORG</td>\n",
       "    </tr>\n",
       "  </tbody>\n",
       "</table>\n",
       "<p>1653 rows × 2 columns</p>\n",
       "</div>"
      ],
      "text/plain": [
       "                                                 Entity     Label\n",
       "0                                           A. A. MILNE    PERSON\n",
       "1                                             JUVENILES    PERSON\n",
       "2                                  EDWARD\\n\\n    NEWTON       ORG\n",
       "3                                              Fourteen  CARDINAL\n",
       "4                                           A. A. Milne    PERSON\n",
       "...                                                 ...       ...\n",
       "1648                                             eBooks       ORG\n",
       "1649                                  Project Gutenberg       ORG\n",
       "1650  the Project Gutenberg Literary\\n\\nArchive Foun...       ORG\n",
       "1651                                             eBooks       ORG\n",
       "1652                                             eBooks       ORG\n",
       "\n",
       "[1653 rows x 2 columns]"
      ]
     },
     "execution_count": 111,
     "metadata": {},
     "output_type": "execute_result"
    }
   ],
   "source": [
    "# create a df for the entities, from the list above \n",
    "df_ents = pd.DataFrame(named_ents)\n",
    "# name the columns\n",
    "df_ents.columns = ['Entity', 'Label']\n",
    "# print\n",
    "df_ents"
   ]
  },
  {
   "cell_type": "code",
   "execution_count": null,
   "id": "a60a6c65-175c-4483-b8e4-3be4e695efe6",
   "metadata": {},
   "outputs": [],
   "source": []
  }
 ],
 "metadata": {
  "kernelspec": {
   "display_name": "Python [conda env:base] *",
   "language": "python",
   "name": "conda-base-py"
  },
  "language_info": {
   "codemirror_mode": {
    "name": "ipython",
    "version": 3
   },
   "file_extension": ".py",
   "mimetype": "text/x-python",
   "name": "python",
   "nbconvert_exporter": "python",
   "pygments_lexer": "ipython3",
   "version": "3.12.7"
  }
 },
 "nbformat": 4,
 "nbformat_minor": 5
}
