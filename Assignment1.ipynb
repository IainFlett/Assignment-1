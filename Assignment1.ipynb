{
 "cells": [
  {
   "cell_type": "code",
   "execution_count": 1,
   "id": "2608e802-7ba9-4aaf-8ec6-d53eb633282f",
   "metadata": {},
   "outputs": [],
   "source": [
    "import requests\n",
    "\n",
    "# use the get() function and store the value in the variable 'response'\n",
    "\n",
    "response = requests.get(\"https://www.scifiscripts.com/scripts/startrek2_wrathofkhan.txt\")\n",
    "\n",
    "# store the html\n",
    "\n",
    "html_string = response.text\n",
    "\n",
    "with open(\"./data/StarTrekII.txt\", 'w') as out:\n",
    "    out.write(html_string)"
   ]
  },
  {
   "cell_type": "code",
   "execution_count": null,
   "id": "2de5c49d-015b-40e0-a4e5-73d90e457def",
   "metadata": {},
   "outputs": [],
   "source": []
  }
 ],
 "metadata": {
  "kernelspec": {
   "display_name": "Python [conda env:base] *",
   "language": "python",
   "name": "conda-base-py"
  },
  "language_info": {
   "codemirror_mode": {
    "name": "ipython",
    "version": 3
   },
   "file_extension": ".py",
   "mimetype": "text/x-python",
   "name": "python",
   "nbconvert_exporter": "python",
   "pygments_lexer": "ipython3",
   "version": "3.12.7"
  }
 },
 "nbformat": 4,
 "nbformat_minor": 5
}
