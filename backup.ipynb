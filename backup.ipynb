{
 "cells": [
  {
   "cell_type": "markdown",
   "id": "18ac8677-a5c9-44bd-8f66-72cd4823056d",
   "metadata": {},
   "source": []
  },
  {
   "cell_type": "code",
   "execution_count": 41,
   "id": "83a9107b-073a-4d39-8569-5f43be7bc6a9",
   "metadata": {},
   "outputs": [],
   "source": [
    "import os\n",
    "import nltk\n",
    "import re\n",
    "import numpy\n",
    "import matplotlib\n",
    "from nltk.tokenize import sent_tokenize, word_tokenize\n",
    "from nltk import FreqDist\n",
    "import pandas as pd"
   ]
  },
  {
   "cell_type": "code",
   "execution_count": 43,
   "id": "520fde2d-82a1-4ad9-bfd2-506e2c447350",
   "metadata": {},
   "outputs": [],
   "source": [
    "def get_text_info(text):\n",
    "    \"\"\"\n",
    "    Uses NLTK to calculate: tokens, types, lexical diversity\n",
    "    \n",
    "    Args:\n",
    "        text (str): a string containing the file or text\n",
    "        \n",
    "    Returns: \n",
    "        dict: a dictionary containing tokens, types, and lexical diversity\n",
    "    \"\"\"\n",
    "    tokens = nltk.word_tokenize(text)\n",
    "    n_tokens = len(tokens)\n",
    "    n_types = len(set(tokens))\n",
    "    return {\n",
    "            'tokens': n_tokens,\n",
    "            'types': n_types,\n",
    "        }\n",
    "def process_dir(path):\n",
    "    \"\"\"\n",
    "    Reads all the files in a directory. Processes them using the 'get_text_info' function\n",
    "    \n",
    "    Args: \n",
    "        path (str): path to the directory where the files are\n",
    "        \n",
    "    Returns:\n",
    "        dict: a dictionary with file names as keys and the tokens, types, lexical diversity, as values\n",
    "    \n",
    "    \"\"\"\n",
    "    file_info = {}\n",
    "\n",
    "    for filename in os.listdir(path):\n",
    "        if filename.endswith(\".txt\"):    \n",
    "            file_path = os.path.join(path, filename)      \n",
    "            with open(file_path, 'r', encoding=\"utf-8\") as f:\n",
    "                text = f.read()\n",
    "                file_info[filename] = get_text_info(text)\n",
    "    return file_info"
   ]
  },
  {
   "cell_type": "code",
   "execution_count": 45,
   "id": "cfe2b97a-e32b-4f9d-adbd-a1140be2c411",
   "metadata": {},
   "outputs": [],
   "source": [
    "path = './data'\n",
    "\n",
    "filesInfo = process_dir(path)\n"
   ]
  },
  {
   "cell_type": "code",
   "execution_count": 47,
   "id": "a3cac60b-80dc-4804-90c2-fa860a0fef4d",
   "metadata": {},
   "outputs": [
    {
     "data": {
      "text/html": [
       "<div>\n",
       "<style scoped>\n",
       "    .dataframe tbody tr th:only-of-type {\n",
       "        vertical-align: middle;\n",
       "    }\n",
       "\n",
       "    .dataframe tbody tr th {\n",
       "        vertical-align: top;\n",
       "    }\n",
       "\n",
       "    .dataframe thead th {\n",
       "        text-align: right;\n",
       "    }\n",
       "</style>\n",
       "<table border=\"1\" class=\"dataframe\">\n",
       "  <thead>\n",
       "    <tr style=\"text-align: right;\">\n",
       "      <th></th>\n",
       "      <th>tokens</th>\n",
       "      <th>types</th>\n",
       "    </tr>\n",
       "  </thead>\n",
       "  <tbody>\n",
       "    <tr>\n",
       "      <th>Meditations_Marcus_Aurelius.txt</th>\n",
       "      <td>81803</td>\n",
       "      <td>6602</td>\n",
       "    </tr>\n",
       "    <tr>\n",
       "      <th>StarTrekII.txt</th>\n",
       "      <td>22065</td>\n",
       "      <td>3673</td>\n",
       "    </tr>\n",
       "    <tr>\n",
       "      <th>Winnie_the_Pooh_AA_Milne.txt</th>\n",
       "      <td>30602</td>\n",
       "      <td>2650</td>\n",
       "    </tr>\n",
       "  </tbody>\n",
       "</table>\n",
       "</div>"
      ],
      "text/plain": [
       "                                 tokens  types\n",
       "Meditations_Marcus_Aurelius.txt   81803   6602\n",
       "StarTrekII.txt                    22065   3673\n",
       "Winnie_the_Pooh_AA_Milne.txt      30602   2650"
      ]
     },
     "execution_count": 47,
     "metadata": {},
     "output_type": "execute_result"
    }
   ],
   "source": [
    "df = pd.DataFrame.from_dict(filesInfo, orient='index')\n",
    "df"
   ]
  },
  {
   "cell_type": "code",
   "execution_count": 49,
   "id": "59a8e3d7-2a9f-4865-8670-61a9b5f148a7",
   "metadata": {},
   "outputs": [
    {
     "data": {
      "text/html": [
       "<div>\n",
       "<style scoped>\n",
       "    .dataframe tbody tr th:only-of-type {\n",
       "        vertical-align: middle;\n",
       "    }\n",
       "\n",
       "    .dataframe tbody tr th {\n",
       "        vertical-align: top;\n",
       "    }\n",
       "\n",
       "    .dataframe thead th {\n",
       "        text-align: right;\n",
       "    }\n",
       "</style>\n",
       "<table border=\"1\" class=\"dataframe\">\n",
       "  <thead>\n",
       "    <tr style=\"text-align: right;\">\n",
       "      <th></th>\n",
       "      <th>tokens</th>\n",
       "      <th>types</th>\n",
       "      <th>lex_div</th>\n",
       "    </tr>\n",
       "  </thead>\n",
       "  <tbody>\n",
       "    <tr>\n",
       "      <th>Meditations_Marcus_Aurelius.txt</th>\n",
       "      <td>81803</td>\n",
       "      <td>6602</td>\n",
       "      <td>0.080706</td>\n",
       "    </tr>\n",
       "    <tr>\n",
       "      <th>StarTrekII.txt</th>\n",
       "      <td>22065</td>\n",
       "      <td>3673</td>\n",
       "      <td>0.166463</td>\n",
       "    </tr>\n",
       "    <tr>\n",
       "      <th>Winnie_the_Pooh_AA_Milne.txt</th>\n",
       "      <td>30602</td>\n",
       "      <td>2650</td>\n",
       "      <td>0.086596</td>\n",
       "    </tr>\n",
       "  </tbody>\n",
       "</table>\n",
       "</div>"
      ],
      "text/plain": [
       "                                 tokens  types   lex_div\n",
       "Meditations_Marcus_Aurelius.txt   81803   6602  0.080706\n",
       "StarTrekII.txt                    22065   3673  0.166463\n",
       "Winnie_the_Pooh_AA_Milne.txt      30602   2650  0.086596"
      ]
     },
     "execution_count": 49,
     "metadata": {},
     "output_type": "execute_result"
    }
   ],
   "source": [
    "df['lex_div'] = df['types']/df['tokens']\n",
    "df"
   ]
  },
  {
   "cell_type": "code",
   "execution_count": 63,
   "id": "b83e4829-892f-4c45-8b95-12de474e8543",
   "metadata": {},
   "outputs": [],
   "source": [
    "def text_cleaner(filename):\n",
    "    path = './data'\n",
    "    file_path = os.path.join(path, filename)\n",
    "\n",
    "    # open one file at a time, to read it, and with utf encoding\n",
    "    with open(file_path, 'r', encoding=\"utf-8\") as f:   \n",
    "        text = f.read()\n",
    "                \n",
    "    text_clean = re.sub(r'[\\,\\.\\\"\\”\\“\\*]', '', text,)\n",
    "    return text_clean"
   ]
  },
  {
   "cell_type": "code",
   "execution_count": 69,
   "id": "6613a011-0703-49b2-9cf6-5fa3c99a31bd",
   "metadata": {},
   "outputs": [
    {
     "data": {
      "text/plain": [
       "[('and', 829),\n",
       " ('the', 678),\n",
       " ('he', 578),\n",
       " ('to', 555),\n",
       " ('said', 540),\n",
       " ('a', 517),\n",
       " ('it', 483),\n",
       " ('I', 459),\n",
       " ('of', 396),\n",
       " ('Pooh', 351)]"
      ]
     },
     "execution_count": 69,
     "metadata": {},
     "output_type": "execute_result"
    }
   ],
   "source": [
    "text_clean = text_cleaner(filename)\n",
    "text_tokens=word_tokenize(text_clean)\n",
    "freq_dist = FreqDist(text_tokens)\n",
    "freq_dist.most_common(10)"
   ]
  },
  {
   "cell_type": "code",
   "execution_count": 67,
   "id": "d6251e90-5833-477b-abdc-0e24ca4347d2",
   "metadata": {},
   "outputs": [
    {
     "data": {
      "text/plain": [
       "[('and', 829),\n",
       " ('the', 678),\n",
       " ('he', 578),\n",
       " ('to', 555),\n",
       " ('said', 540),\n",
       " ('a', 517),\n",
       " ('it', 483),\n",
       " ('I', 459),\n",
       " ('of', 396),\n",
       " ('Pooh', 351)]"
      ]
     },
     "execution_count": 67,
     "metadata": {},
     "output_type": "execute_result"
    }
   ],
   "source": [
    "freq_dist = FreqDist(text_tokens)\n",
    "freq_dist.most_common(10)"
   ]
  },
  {
   "cell_type": "code",
   "execution_count": null,
   "id": "1d1b303b-b70f-411c-9015-d75ed8d8d65d",
   "metadata": {},
   "outputs": [],
   "source": []
  }
 ],
 "metadata": {
  "kernelspec": {
   "display_name": "Python [conda env:base] *",
   "language": "python",
   "name": "conda-base-py"
  },
  "language_info": {
   "codemirror_mode": {
    "name": "ipython",
    "version": 3
   },
   "file_extension": ".py",
   "mimetype": "text/x-python",
   "name": "python",
   "nbconvert_exporter": "python",
   "pygments_lexer": "ipython3",
   "version": "3.12.7"
  }
 },
 "nbformat": 4,
 "nbformat_minor": 5
}
